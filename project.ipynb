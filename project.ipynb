{
 "cells": [
  {
   "cell_type": "code",
   "execution_count": 2,
   "metadata": {},
   "outputs": [],
   "source": [
    "import numpy as np \n",
    "import matplotlib.pyplot as plt"
   ]
  },
  {
   "attachments": {},
   "cell_type": "markdown",
   "metadata": {},
   "source": [
    "## Input data"
   ]
  },
  {
   "cell_type": "code",
   "execution_count": 8,
   "metadata": {},
   "outputs": [],
   "source": [
    "n_companies = 8\n",
    "\n",
    "carbon_emissions = { # in ktCO2e\n",
    "    'scope_1': np.array([75, 5000, 720, 50, 2500, 25, 30000, 5]),\n",
    "    'scope_2': np.array([75, 5000, 1030, 350, 4500, 5, 2000, 64]),\n",
    "    'scope_3': np.array([200, 500, 520, 850, 8000, 50, 200, 146])\n",
    "}\n",
    "\n",
    "revenue = np.array([300, 328, 125, 100, 200, 102, 107, 25]) # in $ bn\n",
    "\n",
    "sector_1 = np.array([1, 0, 1, 1, 0, 1, 0, 0]) # indicator of sector 1\n",
    "sector_2 = np.array([0, 1, 0, 0, 1, 0, 1, 1]) # indicator of sector 2"
   ]
  },
  {
   "cell_type": "code",
   "execution_count": 13,
   "metadata": {},
   "outputs": [
    {
     "name": "stdout",
     "output_type": "stream",
     "text": [
      "Correlation matrix:\n",
      " [[1.   0.8  0.7  0.6  0.7  0.5  0.7  0.7 ]\n",
      " [0.8  1.   0.75 0.65 0.5  0.6  0.5  0.75]\n",
      " [0.7  0.75 1.   0.8  0.7  0.7  0.7  0.8 ]\n",
      " [0.6  0.65 0.8  1.   0.85 0.8  0.75 0.85]\n",
      " [0.7  0.5  0.7  0.85 1.   0.6  0.8  0.75]\n",
      " [0.5  0.6  0.7  0.8  0.6  1.   0.5  0.8 ]\n",
      " [0.7  0.5  0.7  0.75 0.8  0.5  1.   0.7 ]\n",
      " [0.7  0.75 0.8  0.85 0.75 0.8  0.7  1.  ]]\n"
     ]
    }
   ],
   "source": [
    "vol_array = 0.01 * np.array([12, 21, 23, 19, 20, 33, 43, 19]) # volatility of returns\n",
    "\n",
    "correl_mat = 0.01 * np.array([\n",
    "    [100, 0, 0, 0, 0, 0, 0, 0],\n",
    "    [80, 100, 0, 0, 0, 0, 0, 0],\n",
    "    [70, 75, 100, 0, 0, 0, 0, 0],\n",
    "    [60, 65, 80, 100, 0, 0 ,0, 0],\n",
    "    [70, 50, 70, 85, 100, 0, 0, 0],\n",
    "    [50, 60, 70, 80, 60, 100, 0, 0],\n",
    "    [70, 50, 70, 75, 80, 50, 100, 0],\n",
    "    [70, 75, 80, 85, 75, 80, 70, 100]\n",
    "])\n",
    "correl_mat = (correl_mat + correl_mat.T) - np.eye(n_companies)\n",
    "\n",
    "weights_ref = 0.01 * np.array([20, 17, 17, 13, 11, 10, 6, 6])\n",
    "\n",
    "print(\"Correlation matrix:\\n\", correl_mat)"
   ]
  },
  {
   "attachments": {},
   "cell_type": "markdown",
   "metadata": {},
   "source": [
    "### Question 1"
   ]
  },
  {
   "attachments": {},
   "cell_type": "markdown",
   "metadata": {},
   "source": [
    "(a) Carbon intensities $\\mathcal{CI}_{1+2}$ for scopes $1 + 2$ decribe the company's carbon emissions per $ bn revenue"
   ]
  },
  {
   "attachments": {},
   "cell_type": "markdown",
   "metadata": {},
   "source": [
    "companies by ktCO2e per $1 mn revenue\n",
    "\n",
    "CI = CE / Y"
   ]
  }
 ],
 "metadata": {
  "kernelspec": {
   "display_name": "base",
   "language": "python",
   "name": "python3"
  },
  "language_info": {
   "codemirror_mode": {
    "name": "ipython",
    "version": 3
   },
   "file_extension": ".py",
   "mimetype": "text/x-python",
   "name": "python",
   "nbconvert_exporter": "python",
   "pygments_lexer": "ipython3",
   "version": "3.8.5"
  },
  "orig_nbformat": 4
 },
 "nbformat": 4,
 "nbformat_minor": 2
}
