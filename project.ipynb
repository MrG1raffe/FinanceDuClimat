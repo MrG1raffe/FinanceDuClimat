{
 "cells": [
  {
   "cell_type": "code",
   "execution_count": 39,
   "metadata": {},
   "outputs": [],
   "source": [
    "# QP solvers installation\n",
    "\n",
    "%pip install qpsolvers\n",
    "%pip install qpsolvers[open_source_solvers]"
   ]
  },
  {
   "cell_type": "code",
   "execution_count": 77,
   "metadata": {},
   "outputs": [],
   "source": [
    "import numpy as np\n",
    "from qpsolvers import solve_qp\n",
    "import matplotlib.pyplot as plt\n",
    "import warnings\n",
    "\n",
    "warnings.filterwarnings(\"ignore\")\n",
    "np.set_printoptions(precision=3)"
   ]
  },
  {
   "attachments": {},
   "cell_type": "markdown",
   "metadata": {},
   "source": [
    "## Input data"
   ]
  },
  {
   "cell_type": "code",
   "execution_count": 6,
   "metadata": {},
   "outputs": [],
   "source": [
    "n_companies = 8\n",
    "\n",
    "carbon_emissions = { # in ktCO2e\n",
    "    'scope_1': np.array([75, 5000, 720, 50, 2500, 25, 30000, 5]),\n",
    "    'scope_2': np.array([75, 5000, 1030, 350, 4500, 5, 2000, 64]),\n",
    "    'scope_3': np.array([200, 500, 520, 850, 8000, 50, 200, 146])\n",
    "}\n",
    "\n",
    "revenue = np.array([300, 328, 125, 100, 200, 102, 107, 25]) # in $ bn\n",
    "\n",
    "sector_1 = np.array([1, 0, 1, 1, 0, 1, 0, 0]) # indicator of sector 1\n",
    "sector_2 = np.array([0, 1, 0, 0, 1, 0, 1, 1]) # indicator of sector 2"
   ]
  },
  {
   "cell_type": "code",
   "execution_count": 32,
   "metadata": {},
   "outputs": [
    {
     "name": "stdout",
     "output_type": "stream",
     "text": [
      "Correlation matrix =\n",
      " [[1.   0.8  0.7  0.6  0.7  0.5  0.7  0.7 ]\n",
      " [0.8  1.   0.75 0.65 0.5  0.6  0.5  0.75]\n",
      " [0.7  0.75 1.   0.8  0.7  0.7  0.7  0.8 ]\n",
      " [0.6  0.65 0.8  1.   0.85 0.8  0.75 0.85]\n",
      " [0.7  0.5  0.7  0.85 1.   0.6  0.8  0.75]\n",
      " [0.5  0.6  0.7  0.8  0.6  1.   0.5  0.8 ]\n",
      " [0.7  0.5  0.7  0.75 0.8  0.5  1.   0.7 ]\n",
      " [0.7  0.75 0.8  0.85 0.75 0.8  0.7  1.  ]]\n"
     ]
    }
   ],
   "source": [
    "vol_array = 0.01 * np.array([12, 21, 23, 19, 20, 33, 43, 19]) # volatility of returns\n",
    "\n",
    "correl_mat = 0.01 * np.array([\n",
    "    [100, 0, 0, 0, 0, 0, 0, 0],\n",
    "    [80, 100, 0, 0, 0, 0, 0, 0],\n",
    "    [70, 75, 100, 0, 0, 0, 0, 0],\n",
    "    [60, 65, 80, 100, 0, 0 ,0, 0],\n",
    "    [70, 50, 70, 85, 100, 0, 0, 0],\n",
    "    [50, 60, 70, 80, 60, 100, 0, 0],\n",
    "    [70, 50, 70, 75, 80, 50, 100, 0],\n",
    "    [70, 75, 80, 85, 75, 80, 70, 100]\n",
    "])\n",
    "correl_mat = (correl_mat + correl_mat.T) - np.eye(n_companies)\n",
    "\n",
    "weights_ref = 0.01 * np.array([20, 17, 17, 13, 11, 10, 6, 6])\n",
    "\n",
    "print(\"Correlation matrix =\\n\", correl_mat)"
   ]
  },
  {
   "attachments": {},
   "cell_type": "markdown",
   "metadata": {},
   "source": [
    "### Question 1\n",
    "\n",
    "Calculation of carbon intencities for reference portfolio $b$. "
   ]
  },
  {
   "attachments": {},
   "cell_type": "markdown",
   "metadata": {},
   "source": [
    "(a) Carbon intensities $\\mathcal{CI}_{1+2}$ for scopes $1 + 2$ decribe the company's carbon emissions per revenue (ktCO2e per $1 mn revenue):\n",
    "$$\n",
    "\\mathcal{CI}_{i, 1+2} = \\dfrac{\\mathcal{CE}_{i, 1} + \\mathcal{CE}_{i, 2}}{Y}\n",
    "$$"
   ]
  },
  {
   "cell_type": "code",
   "execution_count": 19,
   "metadata": {},
   "outputs": [
    {
     "name": "stdout",
     "output_type": "stream",
     "text": [
      "Carbon intensities (scope 1 + scope 2):\n",
      " [5.000e-01 3.049e+01 1.400e+01 4.000e+00 3.500e+01 2.941e-01 2.991e+02\n",
      " 2.760e+00]\n"
     ]
    }
   ],
   "source": [
    "carbon_intensity_12 = (carbon_emissions['scope_1'] + carbon_emissions['scope_2']) / revenue\n",
    "print('Carbon intensities (scope 1 + scope 2):\\n', carbon_intensity_12)"
   ]
  },
  {
   "attachments": {},
   "cell_type": "markdown",
   "metadata": {},
   "source": [
    "(b) Weighed average carbon intensity of bechmark is given by\n",
    "$$\n",
    "\\mathcal{CI}_{1+2}(b) = \\sum_{i}b_{i} \\mathcal{CI}_{i, 1+2}\n",
    "$$"
   ]
  },
  {
   "cell_type": "code",
   "execution_count": 31,
   "metadata": {},
   "outputs": [
    {
     "name": "stdout",
     "output_type": "stream",
     "text": [
      "Benchmark WACI = 30.171863827619035\n"
     ]
    }
   ],
   "source": [
    "waci_ref_12 = weights_ref @ carbon_intensity_12\n",
    "print('Benchmark WACI =', waci_ref_12)"
   ]
  },
  {
   "attachments": {},
   "cell_type": "markdown",
   "metadata": {},
   "source": [
    "(c) The same questions for scopes $1 + 2 + 3$.\n",
    "\n",
    "$$\n",
    "\\mathcal{CI}_{i, 1+2+3} = \\dfrac{\\mathcal{CE}_{i, 1} + \\mathcal{CE}_{i, 2} + \\mathcal{CE}_{i, 3}}{Y}\n",
    "$$\n",
    "\n",
    "$$\n",
    "\\mathcal{CI}_{1+2+3}(b) = \\sum_{i}b_{i} \\mathcal{CI}_{i, 1+2+3}\n",
    "$$"
   ]
  },
  {
   "cell_type": "code",
   "execution_count": 16,
   "metadata": {},
   "outputs": [
    {
     "name": "stdout",
     "output_type": "stream",
     "text": [
      "Carbon intensities (scope 1 + scope 2 + scope 3):\n",
      " [  1.167  32.012  18.16   12.5    75.      0.784 300.935   8.6  ]\n"
     ]
    }
   ],
   "source": [
    "carbon_intensity_123 = (carbon_emissions['scope_1'] + carbon_emissions['scope_2'] + carbon_emissions['scope_3']) / revenue\n",
    "print('Carbon intensities (scope 1 + scope 2 + scope 3):\\n', carbon_intensity_123)"
   ]
  },
  {
   "cell_type": "code",
   "execution_count": 30,
   "metadata": {},
   "outputs": [
    {
     "name": "stdout",
     "output_type": "stream",
     "text": [
      "Benchmark WACI = 37.288112642969196\n"
     ]
    }
   ],
   "source": [
    "waci_ref_123 = weights_ref @ carbon_intensity_123\n",
    "print('Benchmark WACI =', waci_ref_123)"
   ]
  },
  {
   "attachments": {},
   "cell_type": "markdown",
   "metadata": {},
   "source": [
    "### Question 2\n",
    "\n",
    "The goal is to reduce the WACI of the benchmark portfolio by rate $\\mathcal{R}$."
   ]
  },
  {
   "attachments": {},
   "cell_type": "markdown",
   "metadata": {},
   "source": [
    "(a) The elements of covariance matrix $\\Sigma$ are equal\n",
    "$$\n",
    "\\Sigma_{ij} = \\rho_{ij} \\sigma_i \\sigma_j\n",
    "$$"
   ]
  },
  {
   "cell_type": "code",
   "execution_count": 28,
   "metadata": {},
   "outputs": [
    {
     "name": "stdout",
     "output_type": "stream",
     "text": [
      "Covariance matrix = \n",
      " [[0.014 0.02  0.019 0.014 0.017 0.02  0.036 0.016]\n",
      " [0.02  0.044 0.036 0.026 0.021 0.042 0.045 0.03 ]\n",
      " [0.019 0.036 0.053 0.035 0.032 0.053 0.069 0.035]\n",
      " [0.014 0.026 0.035 0.036 0.032 0.05  0.061 0.031]\n",
      " [0.017 0.021 0.032 0.032 0.04  0.04  0.069 0.029]\n",
      " [0.02  0.042 0.053 0.05  0.04  0.109 0.071 0.05 ]\n",
      " [0.036 0.045 0.069 0.061 0.069 0.071 0.185 0.057]\n",
      " [0.016 0.03  0.035 0.031 0.029 0.05  0.057 0.036]]\n"
     ]
    }
   ],
   "source": [
    "cov_mat = (vol_array[:, None] @ vol_array[None, :]) * correl_mat\n",
    "print('Covariance matrix = \\n', cov_mat)"
   ]
  },
  {
   "attachments": {},
   "cell_type": "markdown",
   "metadata": {},
   "source": [
    "(b) An optimization problem corresponding to the minimization of the tracking error under the intensity reduction constraint is given by:\n",
    "$$\n",
    "\\min\\left\\{ \\dfrac{1}{2}w^T\\Sigma w - w^T\\Sigma b \\right\\}\n",
    "$$\n",
    "$$\n",
    "\\text{s.t.}\\ \\begin{cases}\n",
    "\\mathbf{1}^Tw = 1, \\\\\n",
    "\\mathbf{0} \\leq w \\leq \\mathbf{1}, \\\\\n",
    "\\mathcal{CI}(w) \\leq (1 - \\mathcal{R})\\mathcal{CI}(b).\n",
    "\\end{cases}\n",
    "$$"
   ]
  },
  {
   "attachments": {},
   "cell_type": "markdown",
   "metadata": {},
   "source": [
    "(c) QP formulation of the considered problem:\n",
    "$$\n",
    "\\min\\left\\{ \\dfrac{1}{2}w^TP w + w^T q \\right\\}\n",
    "$$\n",
    "$$\n",
    "\\text{s.t.}\\ \\begin{cases}\n",
    "Gx \\leq h, \\\\\n",
    "Ax = b, \\\\\n",
    "w^- \\leq w \\leq w^+,\n",
    "\\end{cases}\n",
    "$$\n",
    "where for our problem\n",
    "$$\n",
    "P = \\Sigma, \\quad q = -\\Sigma b, \\\\\n",
    "G = \\mathcal{CI}^T, \\quad h = (1 - \\mathcal{R})\\mathcal{CI}(b), \\\\\n",
    "A = \\mathbf{1}^T, \\quad b = 1, \\\\\n",
    "w^- = \\mathbf{0}, \\quad w^+ = \\mathbf{1}.\n",
    "$$"
   ]
  },
  {
   "cell_type": "code",
   "execution_count": 107,
   "metadata": {},
   "outputs": [],
   "source": [
    "def optimal_replicating_portfolio(\n",
    "    reduction_rate: float,\n",
    "    carbon_intensity: np.ndarray,\n",
    "    reference_portfolio: np.ndarray,\n",
    "    covariance_matrix: np.ndarray,\n",
    "):\n",
    "    optimal_portfolio = solve_qp(\n",
    "        P=covariance_matrix,\n",
    "        q=-covariance_matrix @ reference_portfolio,\n",
    "        G=carbon_intensity,\n",
    "        h=np.array([(1 - reduction_rate) * carbon_intensity @ reference_portfolio]),\n",
    "        A=np.ones_like(reference_portfolio),\n",
    "        b=np.array([1]),\n",
    "        lb=np.zeros_like(reference_portfolio),\n",
    "        ub=np.ones_like(reference_portfolio), \n",
    "        solver=\"clarabel\"\n",
    "    )\n",
    "    return optimal_portfolio"
   ]
  },
  {
   "attachments": {},
   "cell_type": "markdown",
   "metadata": {},
   "source": [
    "(c) For $\\mathcal{R} = 20%$ and scope 1+2 carbon intensities we obtain the solution"
   ]
  },
  {
   "cell_type": "code",
   "execution_count": 76,
   "metadata": {},
   "outputs": [
    {
     "name": "stdout",
     "output_type": "stream",
     "text": [
      "Optimized portfolio:  [0.21  0.145 0.184 0.148 0.099 0.097 0.043 0.073]\n",
      "Benchmark portfolio:  [0.2, 0.17, 0.17, 0.13, 0.11, 0.1, 0.06, 0.06]\n"
     ]
    }
   ],
   "source": [
    "reduction_rate = 0.2\n",
    "\n",
    "opt_portfolio_20_12 = optimal_replicating_portfolio(\n",
    "    reduction_rate=reduction_rate,\n",
    "    carbon_intensity=carbon_intensity_12,\n",
    "    reference_portfolio=weights_ref,\n",
    "    covariance_matrix=cov_mat\n",
    ")\n",
    "print('Optimized portfolio: ', opt_portfolio_20_12)\n",
    "print('Benchmark portfolio: ', list(weights_ref))"
   ]
  },
  {
   "attachments": {},
   "cell_type": "markdown",
   "metadata": {},
   "source": [
    "#### Sanity check"
   ]
  },
  {
   "cell_type": "code",
   "execution_count": 72,
   "metadata": {},
   "outputs": [
    {
     "name": "stdout",
     "output_type": "stream",
     "text": [
      "Weights sum = 0.9999999999999999\n",
      "Portfolio CI = 24.137424425955345\n",
      "0.8 * CI(b) = 24.13749106209523\n"
     ]
    }
   ],
   "source": [
    "print('Weights sum =', np.sum(opt_portfolio_20_12))\n",
    "print('Portfolio CI =', carbon_intensity_12 @ opt_portfolio_20_12)\n",
    "print('0.8 * CI(b) =', 0.8 * waci_ref_12)"
   ]
  },
  {
   "attachments": {},
   "cell_type": "markdown",
   "metadata": {},
   "source": [
    "The volatility of the replication error is given by:\n",
    "$$\n",
    "\\sigma(w^* | b) = \\sqrt{(w^* - b)^T\\Sigma(w^*-b)}\n",
    "$$"
   ]
  },
  {
   "cell_type": "code",
   "execution_count": 73,
   "metadata": {},
   "outputs": [],
   "source": [
    "def replication_vol(opt_pf, ref_pf, cov_mat):\n",
    "    return np.sqrt((opt_pf - ref_pf).T @ cov_mat @ (opt_pf - ref_pf))"
   ]
  },
  {
   "cell_type": "code",
   "execution_count": 74,
   "metadata": {},
   "outputs": [
    {
     "name": "stdout",
     "output_type": "stream",
     "text": [
      "Replication volatility = 0.005636070383049719\n"
     ]
    }
   ],
   "source": [
    "print('Replication volatility =', replication_vol(opt_portfolio_20_12, weights_ref, cov_mat))"
   ]
  },
  {
   "attachments": {},
   "cell_type": "markdown",
   "metadata": {},
   "source": [
    "(4) Same questions for $\\mathcal{R} = 30\\%, 50\\%, 70\\%$."
   ]
  },
  {
   "cell_type": "code",
   "execution_count": 75,
   "metadata": {},
   "outputs": [
    {
     "name": "stdout",
     "output_type": "stream",
     "text": [
      "Optimized portfolio:  [0.215 0.132 0.192 0.158 0.094 0.095 0.034 0.08 ]\n",
      "Benchmark portfolio:  [0.2, 0.17, 0.17, 0.13, 0.11, 0.1, 0.06, 0.06]\n",
      "Replication volatility = 0.008454041635834691\n"
     ]
    }
   ],
   "source": [
    "reduction_rate = 0.3\n",
    "\n",
    "opt_portfolio_30_12 = optimal_replicating_portfolio(\n",
    "    reduction_rate=reduction_rate,\n",
    "    carbon_intensity=carbon_intensity_12,\n",
    "    reference_portfolio=weights_ref,\n",
    "    covariance_matrix=cov_mat\n",
    ")\n",
    "print('Optimized portfolio: ', opt_portfolio_30_12)\n",
    "print('Benchmark portfolio: ', list(weights_ref))\n",
    "print('Replication volatility =', replication_vol(opt_portfolio_30_12, weights_ref, cov_mat))"
   ]
  },
  {
   "cell_type": "code",
   "execution_count": 78,
   "metadata": {},
   "outputs": [
    {
     "name": "stdout",
     "output_type": "stream",
     "text": [
      "Optimized portfolio:  [0.226 0.107 0.206 0.176 0.083 0.092 0.016 0.093]\n",
      "Benchmark portfolio:  [0.2, 0.17, 0.17, 0.13, 0.11, 0.1, 0.06, 0.06]\n",
      "Replication volatility = 0.014090032982331201\n"
     ]
    }
   ],
   "source": [
    "reduction_rate = 0.5\n",
    "\n",
    "opt_portfolio_50_12 = optimal_replicating_portfolio(\n",
    "    reduction_rate=0.5,\n",
    "    carbon_intensity=carbon_intensity_12,\n",
    "    reference_portfolio=weights_ref,\n",
    "    covariance_matrix=cov_mat\n",
    ")\n",
    "print('Optimized portfolio: ', opt_portfolio_50_12)\n",
    "print('Benchmark portfolio: ', list(weights_ref))\n",
    "print('Replication volatility =', replication_vol(opt_portfolio_50_12, weights_ref, cov_mat))"
   ]
  },
  {
   "cell_type": "code",
   "execution_count": 79,
   "metadata": {},
   "outputs": [
    {
     "name": "stdout",
     "output_type": "stream",
     "text": [
      "Optimized portfolio:  [2.404e-01 7.878e-02 2.202e-01 1.978e-01 6.668e-02 8.928e-02 9.665e-07\n",
      " 1.068e-01]\n",
      "Benchmark portfolio:  [0.2, 0.17, 0.17, 0.13, 0.11, 0.1, 0.06, 0.06]\n",
      "Replication volatility = 0.01973251575044196\n"
     ]
    }
   ],
   "source": [
    "reduction_rate = 0.7\n",
    "\n",
    "opt_portfolio_70_12 = optimal_replicating_portfolio(\n",
    "    reduction_rate=0.7,\n",
    "    carbon_intensity=carbon_intensity_12,\n",
    "    reference_portfolio=weights_ref,\n",
    "    covariance_matrix=cov_mat\n",
    ")\n",
    "print('Optimized portfolio: ', opt_portfolio_70_12)\n",
    "print('Benchmark portfolio: ', list(weights_ref))\n",
    "print('Replication volatility =', replication_vol(opt_portfolio_70_12, weights_ref, cov_mat))"
   ]
  },
  {
   "cell_type": "code",
   "execution_count": 91,
   "metadata": {},
   "outputs": [],
   "source": [
    "reduction_rates = 0.01 * np.arange(0, 100, 5)\n",
    "rep_vols = []\n",
    "\n",
    "for reduction_rate in reduction_rates:\n",
    "    opt_portfolio = optimal_replicating_portfolio(\n",
    "        reduction_rate=reduction_rate,\n",
    "        carbon_intensity=carbon_intensity_12,\n",
    "        reference_portfolio=weights_ref,\n",
    "        covariance_matrix=cov_mat\n",
    "    )\n",
    "    rep_vols.append(replication_vol(opt_portfolio, weights_ref, cov_mat))"
   ]
  },
  {
   "cell_type": "code",
   "execution_count": 130,
   "metadata": {},
   "outputs": [
    {
     "data": {
      "image/png": "[encoded data removed]",
      "text/plain": [
       "<Figure size 800x600 with 1 Axes>"
      ]
     },
     "metadata": {},
     "output_type": "display_data"
    }
   ],
   "source": [
    "fig, ax = plt.subplots(figsize=(8, 6))\n",
    "ax.plot(reduction_rates * 100, rep_vols, 'g')\n",
    "ax.grid()\n",
    "ax.set_title('Replication volatility')\n",
    "ax.set_xlabel('Reduction rate, %')\n",
    "ax.set_ylabel('Replication vol')\n",
    "plt.show()"
   ]
  },
  {
   "attachments": {},
   "cell_type": "markdown",
   "metadata": {},
   "source": [
    "### Question 3\n",
    "\n",
    "In this question, we will reduce the WACI of the benchmark portfolio by rate $\\mathcal{R}$ keeping the sectors weights equal for benchmark and optimized portfolio."
   ]
  },
  {
   "attachments": {},
   "cell_type": "markdown",
   "metadata": {},
   "source": [
    "(a) Let $s_i$ for $i=1,2$ denote the sector-mapping vector, i.e. $s_{i,j} = 1$ if $j$-th company is in $i$-th sector.\n",
    "\n",
    "The sector-neutrality constraint reads:\n",
    "$$\n",
    "s_i^T w = s_i^T b, \\quad i = 1, 2.\n",
    "$$"
   ]
  },
  {
   "attachments": {},
   "cell_type": "markdown",
   "metadata": {},
   "source": [
    "(b) We add this constraints to the minimization problem considered in question 2:\n",
    "$$\n",
    "\\min\\left\\{ \\dfrac{1}{2}w^T\\Sigma w - w^T\\Sigma b \\right\\}\n",
    "$$\n",
    "$$\n",
    "\\text{s.t.}\\ \\begin{cases}\n",
    "\\mathbf{1}^Tw = 1, \\\\\n",
    "s_1^T w = s_1^T b, \\\\\n",
    "s_2^T w = s_2^T b, \\\\\n",
    "\\mathbf{0} \\leq w \\leq \\mathbf{1}, \\\\\n",
    "\\mathcal{CI}(w) \\leq (1 - \\mathcal{R})\\mathcal{CI}(b).\n",
    "\\end{cases}\n",
    "$$"
   ]
  },
  {
   "attachments": {},
   "cell_type": "markdown",
   "metadata": {},
   "source": [
    "(c) In the QP formulation one should only modify the matrix $A$\n",
    "$$\n",
    "\\min\\left\\{ \\dfrac{1}{2}w^TP w + w^T q \\right\\}\n",
    "$$\n",
    "$$\n",
    "\\text{s.t.}\\ \\begin{cases}\n",
    "Gx \\leq h, \\\\\n",
    "Ax = b, \\\\\n",
    "w^- \\leq w \\leq w^+,\n",
    "\\end{cases}\n",
    "$$\n",
    "where for our problem\n",
    "$$\n",
    "P = \\Sigma, \\quad q = -\\Sigma b, \\\\\n",
    "G = \\mathcal{CI}^T, \\quad h = (1 - \\mathcal{R})\\mathcal{CI}(b), \\\\\n",
    "A = \\begin{pmatrix}\n",
    "\\mathbf{1}^T \\\\\n",
    "s_1^T \\\\\n",
    "s_2^T \\\\\n",
    "\\end{pmatrix}, \n",
    "\\quad b = \\begin{pmatrix}\n",
    "1 \\\\\n",
    "s_1^Tb \\\\\n",
    "s_2^Tb \\\\\n",
    "\\end{pmatrix}\\\\\n",
    "w^- = \\mathbf{0}, \\quad w^+ = \\mathbf{1}.\n",
    "$$"
   ]
  },
  {
   "cell_type": "code",
   "execution_count": 127,
   "metadata": {},
   "outputs": [],
   "source": [
    "def sector_neutral_optimal_replicating_portfolio(\n",
    "    reduction_rate: float,\n",
    "    carbon_intensity: np.ndarray,\n",
    "    reference_portfolio: np.ndarray,\n",
    "    covariance_matrix: np.ndarray,\n",
    "    sector_mappings: np.ndarray\n",
    "):\n",
    "    A = np.vstack([\n",
    "        np.ones_like(reference_portfolio),\n",
    "        sector_mappings\n",
    "    ])\n",
    "    b = np.concatenate([[1], sector_mappings @ reference_portfolio])[:, None]\n",
    "    np.ones_like(reference_portfolio)\n",
    "    optimal_portfolio = solve_qp(\n",
    "        P=covariance_matrix,\n",
    "        q=-covariance_matrix @ reference_portfolio,\n",
    "        G=carbon_intensity,\n",
    "        h=np.array([(1 - reduction_rate) * carbon_intensity @ reference_portfolio]),\n",
    "        A=A,\n",
    "        b=b,\n",
    "        lb=np.zeros_like(reference_portfolio),\n",
    "        ub=np.ones_like(reference_portfolio), \n",
    "        solver=\"clarabel\"\n",
    "    )\n",
    "    return optimal_portfolio"
   ]
  },
  {
   "attachments": {},
   "cell_type": "markdown",
   "metadata": {},
   "source": [
    "(d) $\\mathcal{R} = 20\\%$. We will also consider carbon intensities of scopes 1 + 2 + 3."
   ]
  },
  {
   "cell_type": "code",
   "execution_count": 145,
   "metadata": {},
   "outputs": [],
   "source": [
    "sector_mappings = np.vstack([sector_1, sector_2])"
   ]
  },
  {
   "cell_type": "code",
   "execution_count": 146,
   "metadata": {},
   "outputs": [
    {
     "name": "stdout",
     "output_type": "stream",
     "text": [
      "Optimized portfolio:  [0.195 0.152 0.179 0.135 0.1   0.091 0.037 0.111]\n",
      "Benchmark portfolio:  [0.2, 0.17, 0.17, 0.13, 0.11, 0.1, 0.06, 0.06]\n",
      "Replication volatility = 0.00767451889883405\n"
     ]
    }
   ],
   "source": [
    "reduction_rate = 0.2\n",
    "\n",
    "opt_portfolio_20_123 = sector_neutral_optimal_replicating_portfolio(\n",
    "    reduction_rate=reduction_rate,\n",
    "    carbon_intensity=carbon_intensity_123,\n",
    "    reference_portfolio=weights_ref,\n",
    "    covariance_matrix=cov_mat,\n",
    "    sector_mappings=sector_mappings\n",
    ")\n",
    "print('Optimized portfolio: ', opt_portfolio_20_123)\n",
    "print('Benchmark portfolio: ', list(weights_ref))\n",
    "print('Replication volatility =', replication_vol(opt_portfolio_20_123, weights_ref, cov_mat))"
   ]
  },
  {
   "attachments": {},
   "cell_type": "markdown",
   "metadata": {},
   "source": [
    "#### Sanity check"
   ]
  },
  {
   "cell_type": "code",
   "execution_count": 147,
   "metadata": {},
   "outputs": [
    {
     "name": "stdout",
     "output_type": "stream",
     "text": [
      "Weights sum = 0.9999999999999825\n",
      "Portfolio CI = 29.830476780307695\n",
      "0.8 * CI(b) = 29.83049011437536\n",
      "Weight of sector 1 (optimized)= 0.599999999999983\n",
      "Weight of sector 1 (reference)= 0.6\n"
     ]
    }
   ],
   "source": [
    "print('Weights sum =', np.sum(opt_portfolio_20_123))\n",
    "print('Portfolio CI =', carbon_intensity_123 @ opt_portfolio_20_123)\n",
    "print('0.8 * CI(b) =', (1 - reduction_rate) * waci_ref_123)\n",
    "print('Weight of sector 1 (optimized)=', sector_1 @ opt_portfolio_20_123)\n",
    "print('Weight of sector 1 (reference)=', sector_1 @ weights_ref)"
   ]
  },
  {
   "attachments": {},
   "cell_type": "markdown",
   "metadata": {},
   "source": [
    "(d) Same question for $\\mathcal{R} = 30\\%, 50\\%, 70\\%$."
   ]
  },
  {
   "cell_type": "code",
   "execution_count": 148,
   "metadata": {},
   "outputs": [
    {
     "name": "stdout",
     "output_type": "stream",
     "text": [
      "Optimized portfolio:  [0.192 0.143 0.184 0.137 0.095 0.087 0.026 0.136]\n",
      "Benchmark portfolio:  [0.2, 0.17, 0.17, 0.13, 0.11, 0.1, 0.06, 0.06]\n",
      "Replication volatility = 0.01151177006035631\n"
     ]
    }
   ],
   "source": [
    "reduction_rate = 0.3\n",
    "\n",
    "opt_portfolio_30_123 = sector_neutral_optimal_replicating_portfolio(\n",
    "    reduction_rate=reduction_rate,\n",
    "    carbon_intensity=carbon_intensity_123,\n",
    "    reference_portfolio=weights_ref,\n",
    "    covariance_matrix=cov_mat,\n",
    "    sector_mappings=sector_mappings\n",
    ")\n",
    "print('Optimized portfolio: ', opt_portfolio_30_123)\n",
    "print('Benchmark portfolio: ', list(weights_ref))\n",
    "print('Replication volatility =', replication_vol(opt_portfolio_30_123, weights_ref, cov_mat))"
   ]
  },
  {
   "cell_type": "code",
   "execution_count": 150,
   "metadata": {},
   "outputs": [
    {
     "name": "stdout",
     "output_type": "stream",
     "text": [
      "Optimized portfolio:  [0.187 0.124 0.193 0.142 0.086 0.078 0.004 0.187]\n",
      "Benchmark portfolio:  [0.2, 0.17, 0.17, 0.13, 0.11, 0.1, 0.06, 0.06]\n",
      "Replication volatility = 0.01918627701732338\n"
     ]
    }
   ],
   "source": [
    "reduction_rate = 0.5\n",
    "\n",
    "opt_portfolio_50_123 = sector_neutral_optimal_replicating_portfolio(\n",
    "    reduction_rate=0.5,\n",
    "    carbon_intensity=carbon_intensity_123,\n",
    "    reference_portfolio=weights_ref,\n",
    "    covariance_matrix=cov_mat,\n",
    "    sector_mappings=sector_mappings\n",
    ")\n",
    "print('Optimized portfolio: ', opt_portfolio_50_123)\n",
    "print('Benchmark portfolio: ', list(weights_ref))\n",
    "print('Replication volatility =', replication_vol(opt_portfolio_50_123, weights_ref, cov_mat))"
   ]
  },
  {
   "cell_type": "code",
   "execution_count": 151,
   "metadata": {},
   "outputs": [
    {
     "name": "stdout",
     "output_type": "stream",
     "text": [
      "Optimized portfolio:  [2.051e-01 8.811e-02 1.776e-01 1.558e-01 3.363e-03 6.144e-02 1.089e-07\n",
      " 3.085e-01]\n",
      "Benchmark portfolio:  [0.2, 0.17, 0.17, 0.13, 0.11, 0.1, 0.06, 0.06]\n",
      "Replication volatility = 0.02825432656049339\n"
     ]
    }
   ],
   "source": [
    "reduction_rate = 0.7\n",
    "\n",
    "opt_portfolio_70_123 = sector_neutral_optimal_replicating_portfolio(\n",
    "    reduction_rate=0.7,\n",
    "    carbon_intensity=carbon_intensity_123,\n",
    "    reference_portfolio=weights_ref,\n",
    "    covariance_matrix=cov_mat,\n",
    "    sector_mappings=sector_mappings\n",
    ")\n",
    "print('Optimized portfolio: ', opt_portfolio_70_123)\n",
    "print('Benchmark portfolio: ', list(weights_ref))\n",
    "print('Replication volatility =', replication_vol(opt_portfolio_70_123, weights_ref, cov_mat))"
   ]
  },
  {
   "cell_type": "code",
   "execution_count": 158,
   "metadata": {},
   "outputs": [],
   "source": [
    "reduction_rates = 0.01 * np.arange(0, 90, 5)\n",
    "rep_vols = []\n",
    "rep_vols_esct_neutr = []\n",
    "\n",
    "for reduction_rate in reduction_rates:\n",
    "    opt_portfolio = optimal_replicating_portfolio(\n",
    "        reduction_rate=reduction_rate,\n",
    "        carbon_intensity=carbon_intensity_123,\n",
    "        reference_portfolio=weights_ref,\n",
    "        covariance_matrix=cov_mat,\n",
    "    )\n",
    "    opt_portfolio_sect_neut = sector_neutral_optimal_replicating_portfolio(\n",
    "        reduction_rate=reduction_rate,\n",
    "        carbon_intensity=carbon_intensity_123,\n",
    "        reference_portfolio=weights_ref,\n",
    "        covariance_matrix=cov_mat,\n",
    "        sector_mappings=sector_mappings\n",
    "    )\n",
    "    rep_vols.append(replication_vol(opt_portfolio, weights_ref, cov_mat))\n",
    "    rep_vols_esct_neutr.append(replication_vol(opt_portfolio_sect_neut, weights_ref, cov_mat))"
   ]
  },
  {
   "cell_type": "code",
   "execution_count": 161,
   "metadata": {},
   "outputs": [
    {
     "data": {
      "image/png": "[encoded data removed]",
      "text/plain": [
       "<Figure size 800x600 with 1 Axes>"
      ]
     },
     "metadata": {},
     "output_type": "display_data"
    }
   ],
   "source": [
    "fig, ax = plt.subplots(figsize=(8, 6))\n",
    "ax.plot(reduction_rates * 100, rep_vols, 'g', label='no sector constraint')\n",
    "ax.plot(reduction_rates * 100, rep_vols_esct_neutr, 'b', label='sector-neutral')\n",
    "ax.grid()\n",
    "ax.legend()\n",
    "ax.set_title('Replication volatility')\n",
    "ax.set_xlabel('Reduction rate, %')\n",
    "ax.set_ylabel('Replication vol')\n",
    "plt.show()"
   ]
  },
  {
   "attachments": {},
   "cell_type": "markdown",
   "metadata": {},
   "source": [
    "As expected, replication vol is higher when sector constraint is present."
   ]
  }
 ],
 "metadata": {
  "kernelspec": {
   "display_name": "base",
   "language": "python",
   "name": "python3"
  },
  "language_info": {
   "codemirror_mode": {
    "name": "ipython",
    "version": 3
   },
   "file_extension": ".py",
   "mimetype": "text/x-python",
   "name": "python",
   "nbconvert_exporter": "python",
   "pygments_lexer": "ipython3",
   "version": "3.8.5"
  },
  "orig_nbformat": 4
 },
 "nbformat": 4,
 "nbformat_minor": 2
}
